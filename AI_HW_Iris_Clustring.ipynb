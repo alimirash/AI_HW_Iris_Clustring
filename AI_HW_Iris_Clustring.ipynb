{
  "nbformat": 4,
  "nbformat_minor": 0,
  "metadata": {
    "colab": {
      "provenance": [],
      "authorship_tag": "ABX9TyPaxsv1d/alwADEIigwzMcW",
      "include_colab_link": true
    },
    "kernelspec": {
      "name": "python3",
      "display_name": "Python 3"
    },
    "language_info": {
      "name": "python"
    }
  },
  "cells": [
    {
      "cell_type": "markdown",
      "metadata": {
        "id": "view-in-github",
        "colab_type": "text"
      },
      "source": [
        "<a href=\"https://colab.research.google.com/github/alimirash/AI_HW_Iris_Clustring/blob/main/AI_HW_Iris_Clustring.ipynb\" target=\"_parent\"><img src=\"https://colab.research.google.com/assets/colab-badge.svg\" alt=\"Open In Colab\"/></a>"
      ]
    },
    {
      "cell_type": "code",
      "execution_count": 26,
      "metadata": {
        "id": "n3F9KIUswI_I"
      },
      "outputs": [],
      "source": [
        "import numpy as np\n",
        "import pandas as pd\n",
        "from sklearn import datasets\n",
        "\n",
        "iris = datasets.load_iris()\n",
        "\n",
        "df = pd.DataFrame(data=iris.data, columns=iris.feature_names)\n",
        "df['target'] = iris.target"
      ]
    },
    {
      "cell_type": "code",
      "source": [
        "def initialize_population(pop_size, num_points, num_clusters):\n",
        "    population = []\n",
        "    for _ in range(pop_size):\n",
        "        chromosome = np.random.randint(1, num_clusters + 1, num_points)\n",
        "        population.append(chromosome)\n",
        "    return population"
      ],
      "metadata": {
        "id": "SVlxNHr8wyBN"
      },
      "execution_count": 27,
      "outputs": []
    },
    {
      "cell_type": "code",
      "source": [
        "def mutation(chromosome, mutation_rate, num_clusters):\n",
        "    mutated_chromosome = chromosome.copy()\n",
        "    for i in range(len(mutated_chromosome)):\n",
        "        if np.random.rand() < mutation_rate:\n",
        "            mutated_chromosome[i] = np.random.randint(1, num_clusters + 1)\n",
        "    return mutated_chromosome\n",
        "\n",
        "\n",
        "def crossover(parent1, parent2):\n",
        "    crossover_point = np.random.randint(1, len(parent1))\n",
        "    child1 = np.concatenate((parent1[:crossover_point], parent2[crossover_point:]))\n",
        "    child2 = np.concatenate((parent2[:crossover_point], parent1[crossover_point:]))\n",
        "    return child1, child2\n"
      ],
      "metadata": {
        "id": "sR5UkRSxz2p1"
      },
      "execution_count": 28,
      "outputs": []
    },
    {
      "cell_type": "code",
      "source": [
        "from sklearn.metrics import pairwise_distances\n",
        "\n",
        "def objective_function(chromosome, data, num_clusters):\n",
        "    # Retrieve indices of data points in each cluster\n",
        "    clusters = [np.where(chromosome == i)[0] for i in range(1, num_clusters + 1)]\n",
        "\n",
        "    # Calculate centroids for each cluster\n",
        "    centroids = [np.mean(data[cluster], axis=0) for cluster in clusters]\n",
        "\n",
        "    # Calculate WCSS (Within-Cluster Sum of Squares)\n",
        "    wcss = 0\n",
        "    for i, cluster in enumerate(clusters):\n",
        "        if len(cluster) > 0:\n",
        "            distances = pairwise_distances(data[cluster], [centroids[i]], metric='euclidean')\n",
        "            wcss += np.sum(distances ** 2)\n",
        "\n",
        "    return wcss"
      ],
      "metadata": {
        "id": "G3AX4vGa1QHi"
      },
      "execution_count": 29,
      "outputs": []
    },
    {
      "cell_type": "code",
      "source": [
        "def genetic_algorithm(data, num_clusters, pop_size, num_generations, mutation_rate):\n",
        "    num_points = len(data)\n",
        "    population = initialize_population(pop_size, num_points, num_clusters)\n",
        "    for generation in range(num_generations):\n",
        "        # Evaluate fitness of each chromosome\n",
        "        fitness_scores = [objective_function(chromosome, data, num_clusters) for chromosome in population]\n",
        "\n",
        "        # Select parents for crossover\n",
        "        parents = np.random.choice(range(pop_size), size=pop_size, replace=True, p=np.flip(np.array(fitness_scores))/np.sum(fitness_scores))\n",
        "\n",
        "        # Create new population through crossover and mutation\n",
        "        new_population = []\n",
        "        for i in range(0, pop_size, 2):\n",
        "            child1, child2 = crossover(population[parents[i]], population[parents[i+1]])\n",
        "            child1 = mutation(child1, mutation_rate, num_clusters)\n",
        "            child2 = mutation(child2, mutation_rate, num_clusters)\n",
        "            new_population.extend([child1, child2])\n",
        "        population = new_population[:pop_size]\n",
        "\n",
        "    # Select the best chromosome as the final clustering configuration\n",
        "    best_chromosome = population[np.argmin([objective_function(chromosome, data, num_clusters) for chromosome in population])]\n",
        "    return best_chromosome\n",
        "\n",
        "population_size = 20\n",
        "num_clusters = 3\n",
        "num_generations = 50\n",
        "mutation_rate = 0.1\n",
        "\n",
        "best_clustering = genetic_algorithm(df.iloc[:, :-1].values, num_clusters, population_size, num_generations, mutation_rate)\n",
        "print(\"Clustering Configuration:\", best_clustering)"
      ],
      "metadata": {
        "colab": {
          "base_uri": "https://localhost:8080/"
        },
        "id": "76-Q09Z51Uuy",
        "outputId": "0cc06d47-a5e8-4916-8884-6ef417fa1672"
      },
      "execution_count": 30,
      "outputs": [
        {
          "output_type": "stream",
          "name": "stdout",
          "text": [
            "Clustering Configuration: [2 1 2 2 1 2 2 3 2 2 1 2 2 2 1 2 3 3 3 3 2 1 3 3 2 2 1 2 2 1 2 3 3 1 3 2 2\n",
            " 3 2 2 2 2 2 1 3 3 1 2 3 2 3 2 3 2 3 3 1 3 2 1 2 2 2 1 2 2 1 3 2 2 3 3 3 3\n",
            " 3 1 2 1 1 3 3 3 2 2 2 2 3 1 3 2 3 1 2 2 2 3 3 3 2 3 1 2 2 2 1 3 3 3 1 1 1\n",
            " 1 1 1 2 2 1 2 1 1 1 2 3 3 3 2 3 2 3 2 2 2 2 1 3 1 2 3 2 1 3 2 1 2 1 1 1 3\n",
            " 3 2]\n"
          ]
        }
      ]
    },
    {
      "cell_type": "code",
      "source": [],
      "metadata": {
        "id": "FZVLdYyl2hMh"
      },
      "execution_count": 30,
      "outputs": []
    }
  ]
}